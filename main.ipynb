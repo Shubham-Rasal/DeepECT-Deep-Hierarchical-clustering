{
 "cells": [
  {
   "cell_type": "code",
   "execution_count": 1,
   "id": "04c40548-89f9-4114-8ffa-f7cfeed7b861",
   "metadata": {},
   "outputs": [],
   "source": [
    "%run ClusterTree.ipynb\n",
    "# %run losses.ipynb\n",
    "import torch\n",
    "import torch.nn as nn\n",
    "import torch.optim as optim\n",
    "import torchvision\n",
    "from torchvision import datasets, transforms\n",
    "from torch.utils.data import DataLoader"
   ]
  },
  {
   "cell_type": "code",
   "execution_count": 2,
   "id": "e3b492a6-ddd9-4358-968c-c4d4b3cc8df6",
   "metadata": {},
   "outputs": [],
   "source": [
    "\n",
    "class EncoderDecoder(nn.Module):\n",
    "    def __init__(self):\n",
    "        super(EncoderDecoder, self).__init__()\n",
    "\n",
    "        # Encoder\n",
    "        self.encoder = nn.Sequential(\n",
    "            nn.Conv2d(1, 16, kernel_size=3, stride=2, padding=1),  # Convolutional layer 1\n",
    "            nn.ReLU(),\n",
    "            nn.Conv2d(16, 32, kernel_size=3, stride=2, padding=1),  # Convolutional layer 2\n",
    "            nn.ReLU(),\n",
    "            nn.Flatten(),\n",
    "            nn.Linear(32*7*7, 128),  # Fully connected layer\n",
    "            nn.ReLU(),\n",
    "            nn.Linear(128, 6)  # Latent space layer\n",
    "        )\n",
    "\n",
    "        # Decoder\n",
    "        self.decoder = nn.Sequential(\n",
    "            nn.Linear(6, 128),  # Fully connected layer\n",
    "            nn.ReLU(),\n",
    "            nn.Linear(128, 32*7*7),  # Fully connected layer\n",
    "            nn.ReLU(),\n",
    "            nn.Unflatten(1, (32, 7, 7)),  # Reshape to feature maps\n",
    "            nn.ConvTranspose2d(32, 16, kernel_size=3, stride=2, padding=1, output_padding=1),  # Deconvolutional layer 1\n",
    "            nn.ReLU(),\n",
    "            nn.ConvTranspose2d(16, 1, kernel_size=3, stride=2, padding=1, output_padding=1),  # Deconvolutional layer 2\n",
    "            nn.Sigmoid()\n",
    "        )\n",
    "\n",
    "    def forward(self, x):\n",
    "        # Encode input into latent space\n",
    "        latent = self.encoder(x)\n",
    "\n",
    "        # Decode latent representation\n",
    "        reconstruction = self.decoder(latent)\n",
    "\n",
    "        return reconstruction , latent \n",
    "\n",
    "# Instantiate the model\n",
    "model = EncoderDecoder()\n"
   ]
  },
  {
   "cell_type": "code",
   "execution_count": 3,
   "id": "424e57c8-2ce2-4b4b-be3e-d5b2f5fdacab",
   "metadata": {},
   "outputs": [],
   "source": [
    "transform = transforms.Compose([transforms.ToTensor()])\n",
    "trainset = torchvision.datasets.FashionMNIST(root='./data', train=True, download=True, transform=transform)\n",
    "\n",
    "\n",
    "trainset.data = trainset.data[:4000]\n",
    "# trainloader = torch.utils.data.DataLoader(trainset, batch_size=64, shuffle=True, num_workers=2)"
   ]
  },
  {
   "cell_type": "code",
   "execution_count": 4,
   "id": "144592a3-2e4e-4179-895d-1873abc27c82",
   "metadata": {},
   "outputs": [],
   "source": [
    "class TestDataset(torch.utils.data.Dataset):\n",
    "    def __init__(self, dataset, num_images=640):\n",
    "        self.dataset = dataset\n",
    "        self.num_images = num_images\n",
    "\n",
    "    def __getitem__(self, index):\n",
    "        \n",
    "        img, _ = self.dataset[index]  # Get image and ignore label\n",
    "        return img\n",
    "\n",
    "    def __len__(self):\n",
    "        return len(self.dataset)\n"
   ]
  },
  {
   "cell_type": "code",
   "execution_count": 5,
   "id": "ef2f3667-f75f-443f-a7f7-aed0356ed544",
   "metadata": {},
   "outputs": [
    {
     "data": {
      "text/plain": [
       "4000"
      ]
     },
     "execution_count": 5,
     "metadata": {},
     "output_type": "execute_result"
    }
   ],
   "source": [
    "train_dataset_no_labels = TestDataset(trainset)\n",
    "train_dataset_no_labels.__len__()\n",
    "# num_images = 2000\n",
    "# mnist_subset = torch.utils.data.Subset(train_dataset_no_labels, range(num_images))"
   ]
  },
  {
   "cell_type": "code",
   "execution_count": 6,
   "id": "ae6dbd05-a582-4d34-a989-02733d33aa14",
   "metadata": {},
   "outputs": [],
   "source": [
    "train_loader = torch.utils.data.DataLoader(train_dataset_no_labels, batch_size=64, shuffle=True)"
   ]
  },
  {
   "cell_type": "code",
   "execution_count": 7,
   "id": "451170fb-4b46-470c-8390-f1287bfde060",
   "metadata": {},
   "outputs": [
    {
     "name": "stdout",
     "output_type": "stream",
     "text": [
      "[1,     8] loss: 0.011\n",
      "[1,    16] loss: 0.010\n",
      "[1,    24] loss: 0.009\n",
      "[1,    32] loss: 0.008\n",
      "[1,    40] loss: 0.007\n",
      "[1,    48] loss: 0.007\n",
      "[1,    56] loss: 0.006\n",
      "[2,     8] loss: 0.005\n",
      "[2,    16] loss: 0.005\n",
      "[2,    24] loss: 0.004\n",
      "[2,    32] loss: 0.004\n",
      "[2,    40] loss: 0.003\n",
      "[2,    48] loss: 0.003\n",
      "[2,    56] loss: 0.003\n",
      "[3,     8] loss: 0.003\n",
      "[3,    16] loss: 0.003\n",
      "[3,    24] loss: 0.003\n",
      "[3,    32] loss: 0.003\n",
      "[3,    40] loss: 0.003\n",
      "[3,    48] loss: 0.002\n",
      "[3,    56] loss: 0.003\n",
      "[4,     8] loss: 0.002\n",
      "[4,    16] loss: 0.002\n",
      "[4,    24] loss: 0.002\n",
      "[4,    32] loss: 0.002\n",
      "[4,    40] loss: 0.002\n",
      "[4,    48] loss: 0.002\n",
      "[4,    56] loss: 0.002\n",
      "[5,     8] loss: 0.002\n",
      "[5,    16] loss: 0.002\n",
      "[5,    24] loss: 0.002\n",
      "[5,    32] loss: 0.002\n",
      "[5,    40] loss: 0.002\n",
      "[5,    48] loss: 0.002\n",
      "[5,    56] loss: 0.002\n",
      "Finished Training\n"
     ]
    }
   ],
   "source": [
    "criterion = nn.MSELoss()\n",
    "optimizer = optim.Adam(model.parameters(), lr=0.001)\n",
    "# Pretraining \n",
    "# Training loop\n",
    "num_epochs = 5\n",
    "for epoch in range(num_epochs):\n",
    "    running_loss = 0.0\n",
    "    for i, data in enumerate(train_loader, 0):\n",
    "        \n",
    "        inputs = data\n",
    "\n",
    "        # Zero the parameter gradients\n",
    "        optimizer.zero_grad()\n",
    "\n",
    "        # Forward pass\n",
    "        outputs , latent = model(inputs)\n",
    "\n",
    "        # Compute loss\n",
    "        loss = criterion(outputs, inputs)\n",
    "\n",
    "        # Backward pass and optimize\n",
    "        loss.backward()\n",
    "        optimizer.step()\n",
    "\n",
    "        # Print statistics\n",
    "        running_loss += loss.item()\n",
    "        if i % 8 == 7:  # Print every 100 mini-batches\n",
    "            print('[%d, %5d] loss: %.3f' % (epoch + 1, i + 1, running_loss / 100))\n",
    "            running_loss = 0.0\n",
    "\n",
    "print('Finished Training')"
   ]
  },
  {
   "cell_type": "code",
   "execution_count": 8,
   "id": "65010a04-52f9-46f8-aa05-4219ed850ea0",
   "metadata": {},
   "outputs": [],
   "source": [
    "# torch.save(model.state_dict(), 'model_weight_pretrained_5000.pth')"
   ]
  },
  {
   "cell_type": "code",
   "execution_count": 7,
   "id": "1ecbce2f-89b0-43c5-9657-049039aee72b",
   "metadata": {},
   "outputs": [
    {
     "data": {
      "text/plain": [
       "<All keys matched successfully>"
      ]
     },
     "execution_count": 7,
     "metadata": {},
     "output_type": "execute_result"
    }
   ],
   "source": [
    "model.load_state_dict(torch.load('model_weight_pretrained_4000.pth'))"
   ]
  },
  {
   "cell_type": "code",
   "execution_count": 8,
   "id": "db442052-459c-482f-8ae2-ec55628572c7",
   "metadata": {},
   "outputs": [],
   "source": [
    "import matplotlib.pyplot as plt\n",
    "\n",
    "def print_model_output(model, dataloader, index):\n",
    "    # Get the dataset from the dataloader\n",
    "    dataset = dataloader.dataset\n",
    "\n",
    "    # Get the input image from the dataset\n",
    "    img = dataset.dataset[index][0]  # Access the dataset within the DataLoader\n",
    "    print(img.shape)\n",
    "    \n",
    "    # Pass the image through the model\n",
    "    with torch.no_grad():\n",
    "        output , _ = model(img.unsqueeze(0))\n",
    "        output = output.squeeze(0)\n",
    "\n",
    "    # Convert torch tensors to numpy arrays\n",
    "    img = img.numpy()\n",
    "    output = output.numpy()\n",
    "\n",
    "    # Plot the original image and the model's output\n",
    "    plt.figure(figsize=(8, 4))\n",
    "    plt.subplot(1, 2, 1)\n",
    "    plt.imshow(img[0], cmap='gray')\n",
    "    plt.title('Original Image')\n",
    "    plt.axis('off')\n",
    "\n",
    "    plt.subplot(1, 2, 2)\n",
    "    plt.imshow(output[0], cmap='gray')\n",
    "    plt.title('Model Output')\n",
    "    plt.axis('off')\n",
    "\n",
    "    plt.show()\n"
   ]
  },
  {
   "cell_type": "code",
   "execution_count": 30,
   "id": "e8b9b05d-7f8c-46ba-b15d-57ad4e8bf7ce",
   "metadata": {
    "scrolled": true
   },
   "outputs": [
    {
     "name": "stdout",
     "output_type": "stream",
     "text": [
      "torch.Size([1, 28, 28])\n"
     ]
    },
    {
     "data": {
      "image/png": "[encoded data removed]",
      "text/plain": [
       "<Figure size 800x400 with 2 Axes>"
      ]
     },
     "metadata": {},
     "output_type": "display_data"
    }
   ],
   "source": [
    "print_model_output(model, train_loader, 7)"
   ]
  },
  {
   "cell_type": "code",
   "execution_count": 10,
   "id": "66c5dbbc-2fbe-4e1c-a547-95400d2578f8",
   "metadata": {},
   "outputs": [],
   "source": [
    "#We need to incorporate the rest of the losses and tree formation\n",
    "criterion = nn.MSELoss()\n",
    "optimizer = optim.Adam(model.parameters(), lr=0.01)\n",
    "trainset2 = torchvision.datasets.FashionMNIST(root='./data', train=True, download=True, transform=transform)\n",
    "\n",
    "\n",
    "trainset2.data = trainset2.data[2000:3000]\n",
    "un_train_dataset_no_labels = TestDataset(trainset2)\n",
    "un_train_loader = torch.utils.data.DataLoader(un_train_dataset_no_labels, batch_size=64, shuffle=True)\n",
    "# scheduler = torch.optim.lr_scheduler.ExponentialLR(optimizer, gamma=0.5, last_epoch=-1, verbose=False)\n",
    "scheduler_2 = torch.optim.lr_scheduler.ReduceLROnPlateau(optimizer, mode='min', factor=0.3, patience=2,threshold=0.01)"
   ]
  },
  {
   "cell_type": "code",
   "execution_count": 11,
   "id": "e9cd8b53-ceea-43bf-b173-6d16820fc222",
   "metadata": {},
   "outputs": [
    {
     "data": {
      "text/plain": [
       "<torch.utils.data.dataloader.DataLoader at 0x159543b80>"
      ]
     },
     "execution_count": 11,
     "metadata": {},
     "output_type": "execute_result"
    }
   ],
   "source": [
    "un_train_loader"
   ]
  },
  {
   "cell_type": "code",
   "execution_count": null,
   "id": "d66f30c2-5a42-4fb1-bebc-005c97bfa25b",
   "metadata": {},
   "outputs": [],
   "source": []
  },
  {
   "cell_type": "code",
   "execution_count": 12,
   "id": "356ea78b-7c82-494d-8886-d752a01e2eb7",
   "metadata": {
    "scrolled": true
   },
   "outputs": [
    {
     "name": "stdout",
     "output_type": "stream",
     "text": [
      "Iteration 0\n",
      "Iteration 1\n",
      "Iteration 2\n",
      "Iteration 3\n",
      "Iteration 4\n",
      "Iteration 5\n",
      "Iteration 6\n",
      "Iteration 7\n",
      "Iteration 8\n",
      "Iteration 9\n",
      "Iteration 10\n",
      "Iteration 11\n",
      "Iteration 12\n",
      "Iteration 13\n",
      "Iteration 14\n",
      "[1,    16] loss: 1.843953\n",
      "Iteration 0\n",
      "Iteration 1\n",
      "Iteration 2\n",
      "Iteration 3\n",
      "Iteration 4\n",
      "Iteration 5\n",
      "Iteration 6\n",
      "Iteration 7\n",
      "Iteration 8\n",
      "Iteration 9\n",
      "Iteration 10\n",
      "Iteration 11\n",
      "Iteration 12\n",
      "Iteration 13\n",
      "Iteration 14\n",
      "[2,    16] loss: 0.566407\n",
      "Iteration 0\n",
      "Iteration 1\n",
      "Iteration 2\n",
      "Iteration 3\n",
      "Iteration 4\n",
      "Iteration 5\n",
      "Iteration 6\n",
      "Iteration 7\n",
      "Iteration 8\n",
      "Iteration 9\n",
      "Iteration 10\n",
      "Iteration 11\n",
      "Iteration 12\n",
      "Iteration 13\n",
      "Iteration 14\n",
      "[3,    16] loss: 0.373430\n",
      "Iteration 0\n",
      "Iteration 1\n",
      "Iteration 2\n",
      "Iteration 3\n",
      "Iteration 4\n",
      "Iteration 5\n",
      "Iteration 6\n",
      "Iteration 7\n",
      "Iteration 8\n",
      "Iteration 9\n",
      "Iteration 10\n",
      "Iteration 11\n",
      "Iteration 12\n",
      "Iteration 13\n",
      "Iteration 14\n",
      "[4,    16] loss: 0.331879\n",
      "Iteration 0\n",
      "Iteration 1\n",
      "Iteration 2\n",
      "Iteration 3\n",
      "Iteration 4\n",
      "Iteration 5\n",
      "Iteration 6\n",
      "Iteration 7\n",
      "Iteration 8\n",
      "Iteration 9\n",
      "Iteration 10\n",
      "Iteration 11\n",
      "Iteration 12\n",
      "Iteration 13\n",
      "Iteration 14\n",
      "[5,    16] loss: 0.314975\n",
      "Iteration 0\n",
      "Iteration 1\n",
      "Iteration 2\n",
      "Iteration 3\n",
      "Iteration 4\n",
      "Iteration 5\n",
      "Iteration 6\n",
      "Iteration 7\n",
      "Iteration 8\n",
      "Iteration 9\n",
      "Iteration 10\n",
      "Iteration 11\n",
      "Iteration 12\n",
      "Iteration 13\n",
      "Iteration 14\n",
      "[6,    16] loss: 0.292533\n",
      "Iteration 0\n",
      "Iteration 1\n",
      "Iteration 2\n",
      "Iteration 3\n",
      "Iteration 4\n",
      "Iteration 5\n",
      "Iteration 6\n",
      "Iteration 7\n",
      "Iteration 8\n",
      "Iteration 9\n",
      "Iteration 10\n",
      "Iteration 11\n",
      "Iteration 12\n",
      "Iteration 13\n",
      "Iteration 14\n",
      "[7,    16] loss: 0.329184\n",
      "Iteration 0\n",
      "Iteration 1\n",
      "Iteration 2\n",
      "Iteration 3\n",
      "Iteration 4\n",
      "Iteration 5\n",
      "Iteration 6\n",
      "Iteration 7\n",
      "Iteration 8\n",
      "Iteration 9\n",
      "Iteration 10\n",
      "Iteration 11\n",
      "Iteration 12\n",
      "Iteration 13\n",
      "Iteration 14\n",
      "[8,    16] loss: 0.307562\n",
      "Iteration 0\n",
      "Iteration 1\n",
      "Iteration 2\n",
      "Iteration 3\n",
      "Iteration 4\n",
      "Iteration 5\n",
      "Iteration 6\n",
      "Iteration 7\n",
      "Iteration 8\n",
      "Iteration 9\n",
      "Iteration 10\n",
      "Iteration 11\n",
      "Iteration 12\n",
      "Iteration 13\n",
      "Iteration 14\n",
      "[9,    16] loss: 0.339765\n",
      "Iteration 0\n",
      "Iteration 1\n",
      "Iteration 2\n",
      "Iteration 3\n",
      "Iteration 4\n",
      "Iteration 5\n",
      "Iteration 6\n",
      "Iteration 7\n",
      "Iteration 8\n",
      "Iteration 9\n",
      "Iteration 10\n",
      "Iteration 11\n",
      "Iteration 12\n",
      "Iteration 13\n",
      "Iteration 14\n",
      "[10,    16] loss: 0.332988\n"
     ]
    }
   ],
   "source": [
    "num_epochs = 10\n",
    "\n",
    "for epoch in range(num_epochs):\n",
    "    running_loss = 0.0\n",
    "   \n",
    "    for i, data in enumerate(un_train_loader, 0):\n",
    "        \n",
    "        inputs = data\n",
    "       \n",
    "        # Zero the parameter gradients\n",
    "        optimizer.zero_grad()\n",
    "\n",
    "        # Forward pass\n",
    "        outputs , latent = model(inputs)\n",
    "        \n",
    "        latent = latent.detach().numpy()\n",
    "        if i==0:\n",
    "            clust_tree = ClusterTree(D = latent , L = 10 , T = 1 ,P = 0 )\n",
    "\n",
    "        else:\n",
    "            clust_tree.build_tree(latent)\n",
    "            \n",
    "            \n",
    "            \n",
    "        if i==0:\n",
    "            continue\n",
    "        # Compute loss\n",
    "        mse_loss = criterion(outputs , inputs)\n",
    "\n",
    "        loss_nc = clust_tree.calculate_loss_NC()\n",
    "\n",
    "        loss_dc = clust_tree.calculate_loss_DC()\n",
    "\n",
    "        loss = mse_loss + loss_nc + loss_dc\n",
    "\n",
    "        # Backward pass and optimize\n",
    "        loss.backward()\n",
    "        optimizer.step()\n",
    "\n",
    "        # Print statistics\n",
    "        running_loss += loss.item()\n",
    "        if i % 16 == 15:  # Print every 100 mini-batches\n",
    "            print('[%d, %5d] loss: %.6f' % (epoch + 1, i + 1, running_loss / 15))\n",
    "            running_loss = 0.0\n",
    "    # if epoch < 4:\n",
    "    #     scheduler.step()\n",
    "    scheduler_2.step(loss)"
   ]
  },
  {
   "cell_type": "code",
   "execution_count": 83,
   "id": "4175ea7c-6f8c-4def-a18e-286df59ff514",
   "metadata": {},
   "outputs": [],
   "source": [
    "trainset1 = torchvision.datasets.FashionMNIST(root='./data', train=True, download=True, transform=transform)\n",
    "\n",
    "\n",
    "trainset1.data = trainset1.data[4000:5000]\n",
    "u_train_dataset_no_labels = TestDataset(trainset1)\n",
    "u_train_loader = torch.utils.data.DataLoader(u_train_dataset_no_labels, batch_size=64, shuffle=True)"
   ]
  },
  {
   "cell_type": "code",
   "execution_count": 84,
   "id": "80fb2df7-8990-4127-a7d5-6a9d65aee115",
   "metadata": {},
   "outputs": [],
   "source": [
    "\n",
    "\n",
    "# for j in [test_train_loader , test_train_loader_1]:\n",
    "def test_sim(dataloader , index1 , index2):\n",
    "    ouput = []\n",
    "    for i, data in enumerate(dataloader, 0):\n",
    "    \n",
    "        dataset = dataloader.dataset\n",
    "        img1 = dataset.dataset[index1][0]\n",
    "        img2 = dataset.dataset[index2][0]\n",
    "    \n",
    "        _ , point = model(img1.unsqueeze(0))\n",
    "        _ , point2 = model(img2.unsqueeze(0))\n",
    "     \n",
    "        \n",
    "        \n",
    "        ouput.append(point.detach().numpy())\n",
    "        ouput.append(point2.detach().numpy())\n",
    "    \n",
    "    return clust_tree.test_data(ouput[0][0] , ouput[1][0])"
   ]
  },
  {
   "cell_type": "code",
   "execution_count": 86,
   "id": "b3ceae98-9c57-4272-8192-8cda0bac8c3d",
   "metadata": {},
   "outputs": [],
   "source": [
    "def print_images(model , dataloader , index1 , index2):\n",
    "\n",
    "    dataset = dataloader.dataset\n",
    "\n",
    "    # Get the input image from the dataset\n",
    "    img1 = dataset.dataset[index1][0]  # Access the dataset within the DataLoader\n",
    "    \n",
    "    \n",
    "    # Pass the image through the model\n",
    "    \n",
    "    img2 = dataset.dataset[index2][0] \n",
    "    # Convert torch tensors to numpy arrays\n",
    "    img1 = img1.numpy()\n",
    "    img2 = img2.numpy()\n",
    "\n",
    "    # Plot the original image and the model's output\n",
    "    plt.figure(figsize=(8, 4))\n",
    "    plt.subplot(1, 2, 1)\n",
    "    plt.imshow(img1[0], cmap='gray')\n",
    "    plt.title('Image1')\n",
    "    plt.axis('off')\n",
    "\n",
    "   \n",
    "\n",
    "    plt.subplot(1, 2, 2)\n",
    "    plt.imshow(img2[0], cmap='gray')\n",
    "    plt.title('Image2')\n",
    "    plt.axis('off')\n",
    "\n",
    "    plt.show()\n",
    "\n",
    "    test_sim(dataloader , index1 , index2)"
   ]
  },
  {
   "cell_type": "code",
   "execution_count": 87,
   "id": "c4bb8000-9856-48cd-8f70-efbe946543dc",
   "metadata": {},
   "outputs": [
    {
     "data": {
      "image/png": "[encoded data removed]",
      "text/plain": [
       "<Figure size 800x400 with 2 Axes>"
      ]
     },
     "metadata": {},
     "output_type": "display_data"
    },
    {
     "name": "stdout",
     "output_type": "stream",
     "text": [
      "Belongs to the same cluster.\n"
     ]
    },
    {
     "data": {
      "image/png": "[encoded data removed]",
      "text/plain": [
       "<Figure size 800x400 with 2 Axes>"
      ]
     },
     "metadata": {},
     "output_type": "display_data"
    },
    {
     "name": "stdout",
     "output_type": "stream",
     "text": [
      "Belongs to the same cluster.\n"
     ]
    },
    {
     "data": {
      "image/png": "[encoded data removed]",
      "text/plain": [
       "<Figure size 800x400 with 2 Axes>"
      ]
     },
     "metadata": {},
     "output_type": "display_data"
    },
    {
     "name": "stdout",
     "output_type": "stream",
     "text": [
      "Belongs to the same cluster.\n"
     ]
    },
    {
     "data": {
      "image/png": "[encoded data removed]",
      "text/plain": [
       "<Figure size 800x400 with 2 Axes>"
      ]
     },
     "metadata": {},
     "output_type": "display_data"
    },
    {
     "name": "stdout",
     "output_type": "stream",
     "text": [
      "Does not belong to same cluster.\n"
     ]
    },
    {
     "data": {
      "image/png": "[encoded data removed]",
      "text/plain": [
       "<Figure size 800x400 with 2 Axes>"
      ]
     },
     "metadata": {},
     "output_type": "display_data"
    },
    {
     "name": "stdout",
     "output_type": "stream",
     "text": [
      "Does not belong to same cluster.\n"
     ]
    }
   ],
   "source": [
    "print_images(model, train_loader, 7 , 311\n",
    "                  )\n",
    "\n",
    "print_images(model, train_loader, 6 , 310\n",
    "                  )\n",
    "\n",
    "print_images(model, u_train_loader, 7 , 115\n",
    "                  )\n",
    "\n",
    "print_images(model, train_loader, 31 , 7\n",
    "                  )\n",
    "\n",
    "print_images(model, train_loader, 1 , 529\n",
    "                  )"
   ]
  },
  {
   "cell_type": "code",
   "execution_count": null,
   "id": "dec1a277-e1db-400d-9219-a508adaa38a1",
   "metadata": {},
   "outputs": [],
   "source": []
  }
 ],
 "metadata": {
  "kernelspec": {
   "display_name": "Python 3 (ipykernel)",
   "language": "python",
   "name": "python3"
  },
  "language_info": {
   "codemirror_mode": {
    "name": "ipython",
    "version": 3
   },
   "file_extension": ".py",
   "mimetype": "text/x-python",
   "name": "python",
   "nbconvert_exporter": "python",
   "pygments_lexer": "ipython3",
   "version": "3.10.12"
  }
 },
 "nbformat": 4,
 "nbformat_minor": 5
}
