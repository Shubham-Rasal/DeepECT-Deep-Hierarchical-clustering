{
 "cells": [
  {
   "cell_type": "code",
   "execution_count": 42,
   "id": "8f1e9f56-49f9-4fb3-b15e-f4ace7ac7348",
   "metadata": {},
   "outputs": [
    {
     "ename": "SyntaxError",
     "evalue": "unmatched ')' (369845462.py, line 115)",
     "output_type": "error",
     "traceback": [
      "\u001b[0;36m  File \u001b[0;32m/var/folders/m8/3n260qc114151vg3pxqk55km0000gn/T/ipykernel_19037/369845462.py:115\u001b[0;36m\u001b[0m\n\u001b[0;31m    loss_contribution = np.sum(P_n * (n.centroid) - datapoint))\u001b[0m\n\u001b[0m                                                              ^\u001b[0m\n\u001b[0;31mSyntaxError\u001b[0m\u001b[0;31m:\u001b[0m unmatched ')'\n"
     ]
    },
    {
     "ename": "SyntaxError",
     "evalue": "unmatched ')' (369845462.py, line 115)",
     "output_type": "error",
     "traceback": [
      "Traceback \u001b[0;36m(most recent call last)\u001b[0m:\n",
      "\u001b[0m  File \u001b[1;32m~/learning/env/lib/python3.10/site-packages/IPython/core/interactiveshell.py:3508\u001b[0m in \u001b[1;35mrun_code\u001b[0m\n    exec(code_obj, self.user_global_ns, self.user_ns)\u001b[0m\n",
      "\u001b[0m  Cell \u001b[1;32mIn[42], line 1\u001b[0m\n    get_ipython().run_line_magic('run', 'ClusterTree.ipynb')\u001b[0m\n",
      "\u001b[0m  File \u001b[1;32m~/learning/env/lib/python3.10/site-packages/IPython/core/interactiveshell.py:2417\u001b[0m in \u001b[1;35mrun_line_magic\u001b[0m\n    result = fn(*args, **kwargs)\u001b[0m\n",
      "\u001b[0m  File \u001b[1;32m~/learning/env/lib/python3.10/site-packages/IPython/core/magics/execution.py:722\u001b[0m in \u001b[1;35mrun\u001b[0m\n    self.shell.safe_execfile_ipy(filename, raise_exceptions=True)\u001b[0m\n",
      "\u001b[0m  File \u001b[1;32m~/learning/env/lib/python3.10/site-packages/IPython/core/interactiveshell.py:2939\u001b[0m in \u001b[1;35msafe_execfile_ipy\u001b[0m\n    result.raise_error()\u001b[0m\n",
      "\u001b[0m  File \u001b[1;32m~/learning/env/lib/python3.10/site-packages/IPython/core/interactiveshell.py:266\u001b[0m in \u001b[1;35mraise_error\u001b[0m\n    raise self.error_before_exec\u001b[0m\n",
      "\u001b[0m  File \u001b[1;32m~/learning/env/lib/python3.10/site-packages/IPython/core/interactiveshell.py:3241\u001b[0m in \u001b[1;35mrun_cell_async\u001b[0m\n    code_ast = compiler.ast_parse(cell, filename=cell_name)\u001b[0m\n",
      "\u001b[0;36m  File \u001b[0;32m~/learning/env/lib/python3.10/site-packages/IPython/core/compilerop.py:86\u001b[0;36m in \u001b[0;35mast_parse\u001b[0;36m\n\u001b[0;31m    return compile(source, filename, symbol, self.flags | PyCF_ONLY_AST, 1)\u001b[0;36m\n",
      "\u001b[0;36m  File \u001b[0;32m/var/folders/m8/3n260qc114151vg3pxqk55km0000gn/T/ipykernel_19037/369845462.py:115\u001b[0;36m\u001b[0m\n\u001b[0;31m    loss_contribution = np.sum(P_n * (n.centroid) - datapoint))\u001b[0m\n\u001b[0m                                                              ^\u001b[0m\n\u001b[0;31mSyntaxError\u001b[0m\u001b[0;31m:\u001b[0m unmatched ')'\n"
     ]
    }
   ],
   "source": [
    "%run ClusterTree.ipynb"
   ]
  },
  {
   "cell_type": "code",
   "execution_count": 43,
   "id": "72de7d0a-c9b2-4bd0-a9a4-c98a56a65c5e",
   "metadata": {},
   "outputs": [],
   "source": [
    "import torch\n",
    "import torch.nn as nn\n",
    "import numpy as np\n",
    "from torchvision import datasets, transforms\n",
    "class CustomLoss(ClusterTree):\n",
    "    def __init__(self):\n",
    "        super(CustomLoss, self).__init__()\n",
    "        # Initialize other loss components here if needed\n",
    "\n",
    "    def mse(self, input, target):\n",
    "        # Calculate the Mean Squared Euclidean Distance\n",
    "        mse_loss = nn.MSELoss()\n",
    "        loss = mse_loss(input, target)\n",
    "        return loss\n",
    "\n",
    "    def calculate_loss_NC(self):\n",
    "        leaf_nodes = self.get_leaf_nodes(self.root)\n",
    "        total_loss = 0\n",
    "        for leaf in leaf_nodes:\n",
    "            if leaf.data is not None and len(leaf.data) > 0:\n",
    "                # Calculate the mean of the datapoints in the leaf node\n",
    "                data_mean = np.mean(leaf.data, axis=0)\n",
    "                # Calculate the loss as the Euclidean distance between the centroid and the mean of datapoints\n",
    "                loss = np.linalg.norm(leaf.centroid - autograd.stop_gradient(data_mean))\n",
    "                total_loss += loss\n",
    "        return total_loss/len(leaf_nodes)\n",
    "\n",
    "    def calculate_loss_DC(self):\n",
    "        total_N = 0\n",
    "        total_B = 0\n",
    "        total_loss = 0\n",
    "        siblings = self.get_sibling_pairs()\n",
    "        for n, m in siblings:\n",
    "          total_N += 1\n",
    "          for datapoint in n.data:  # Assuming n.data is a list of datapoints\n",
    "            total_B += 1\n",
    "            P_n = autograd.stop_gradient(self.compute_P(n.centroid, m.centroid))  # Using the previously defined compute_P function\n",
    "            loss_contribution = np.sum(P_n * (autograd.stop_gradient(n.centroid) - datapoint))\n",
    "            total_loss += loss_contribution\n",
    "        return total_loss/(total_N*total)\n",
    "    \n",
    "    "
   ]
  },
  {
   "cell_type": "code",
   "execution_count": null,
   "id": "2841a344-2e32-4e2c-82c1-a741b78b339f",
   "metadata": {},
   "outputs": [],
   "source": []
  }
 ],
 "metadata": {
  "kernelspec": {
   "display_name": "Python 3 (ipykernel)",
   "language": "python",
   "name": "python3"
  },
  "language_info": {
   "codemirror_mode": {
    "name": "ipython",
    "version": 3
   },
   "file_extension": ".py",
   "mimetype": "text/x-python",
   "name": "python",
   "nbconvert_exporter": "python",
   "pygments_lexer": "ipython3",
   "version": "3.10.12"
  }
 },
 "nbformat": 4,
 "nbformat_minor": 5
}
